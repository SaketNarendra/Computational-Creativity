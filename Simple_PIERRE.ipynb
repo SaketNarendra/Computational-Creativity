{
  "nbformat": 4,
  "nbformat_minor": 0,
  "metadata": {
    "colab": {
      "name": "Simple PIERRE.ipynb",
      "provenance": [],
      "collapsed_sections": [],
      "include_colab_link": true
    },
    "kernelspec": {
      "name": "python3",
      "display_name": "Python 3"
    }
  },
  "cells": [
    {
      "cell_type": "markdown",
      "metadata": {
        "id": "view-in-github",
        "colab_type": "text"
      },
      "source": [
        "<a href=\"https://colab.research.google.com/github/SaketNarendra/Computational-Creativity/blob/main/Simple_PIERRE.ipynb\" target=\"_parent\"><img src=\"https://colab.research.google.com/assets/colab-badge.svg\" alt=\"Open In Colab\"/></a>"
      ]
    },
    {
      "cell_type": "markdown",
      "metadata": {
        "id": "XH7clvIQFH9a"
      },
      "source": [
        "# Implementation of Simple PIERRE in Python\n",
        "\n",
        "Note: For this small inspiring set loading from a string is more convenient in Colab but for your own projects you will likely use an external file."
      ]
    },
    {
      "cell_type": "code",
      "metadata": {
        "id": "apRAEX7ewsZ6"
      },
      "source": [
        "data = \"\"\"{\n",
        "  \"recipes\": [\n",
        "    {\n",
        "      \"name\": \"easy sugar cookies\",\n",
        "      \"ingredients\": [\n",
        "        { \"amount\": 630,  \"unit\": \"ml\",  \"ingredient\": \"flour\" },\n",
        "        { \"amount\": 5,  \"unit\": \"g\",  \"ingredient\": \"baking soda\" },\n",
        "        { \"amount\": 2.5,  \"unit\": \"g\", \"ingredient\": \"baking powder\" },\n",
        "        { \"amount\": 230,  \"unit\": \"g\",  \"ingredient\": \"butter\" },\n",
        "        { \"amount\": 300,    \"unit\": \"g\",  \"ingredient\": \"white sugar\" },\n",
        "        { \"amount\": 1,  \"unit\": \"u\",  \"ingredient\": \"eggs\" },\n",
        "        { \"amount\": 5,  \"unit\": \"ml\",  \"ingredient\": \"vanilla extract\" }\n",
        "      ]\n",
        "    },\n",
        "    {\n",
        "      \"name\": \"inside out chocolate cookies\",\n",
        "      \"ingredients\": [\n",
        "        { \"amount\": 115,  \"unit\": \"g\",  \"ingredient\": \"butter\" },\n",
        "        { \"amount\": 100,  \"unit\": \"g\",  \"ingredient\": \"granulated sugar\" },\n",
        "        { \"amount\": 100,  \"unit\": \"g\",  \"ingredient\": \"brown sugar\" },\n",
        "        { \"amount\": 1,  \"unit\": \"u\",  \"ingredient\": \"eggs\" },\n",
        "        { \"amount\": 5,  \"unit\": \"ml\",  \"ingredient\": \"vanilla extract\" },\n",
        "        { \"amount\": 125,  \"unit\": \"g\",  \"ingredient\": \"flour\" },\n",
        "        { \"amount\": 50,  \"unit\": \"g\",  \"ingredient\": \"cocoa powder\" },\n",
        "        { \"amount\": 5,  \"unit\": \"g\",  \"ingredient\": \"baking soda\" },\n",
        "        { \"amount\": 1,  \"unit\": \"g\",  \"ingredient\": \"salt\" },\n",
        "        { \"amount\": 15,  \"unit\": \"ml\",  \"ingredient\": \"milk\" },\n",
        "        { \"amount\": 225,  \"unit\": \"g\",  \"ingredient\": \"chocolate chips\" }\n",
        "      ]\n",
        "    },\n",
        "    {\n",
        "      \"name\": \"crazy cookie dough\",\n",
        "      \"ingredients\": [\n",
        "        { \"amount\": 225,  \"unit\": \"g\",  \"ingredient\": \"butter\" },\n",
        "        { \"amount\": 215,  \"unit\": \"g\",  \"ingredient\": \"brown sugar\" },\n",
        "        { \"amount\": 170,  \"unit\": \"g\",  \"ingredient\": \"white sugar\" },\n",
        "        { \"amount\": 2,  \"unit\": \"u\",  \"ingredient\": \"eggs\" },\n",
        "        { \"amount\": 10,  \"unit\": \"ml\",  \"ingredient\": \"vanilla extract\" },\n",
        "        { \"amount\": 350,  \"unit\": \"g\",  \"ingredient\": \"flour\" },\n",
        "        { \"amount\": 5,  \"unit\": \"g\",  \"ingredient\": \"baking soda\" },\n",
        "        { \"amount\": 5,  \"unit\": \"g\",  \"ingredient\": \"salt\" }\n",
        "      ]\n",
        "    },\n",
        "    {\n",
        "      \"name\": \"oatmeal raisin crazy cookie dough\",\n",
        "      \"ingredients\": [\n",
        "        { \"amount\": 225,  \"unit\": \"g\",  \"ingredient\": \"butter\" },\n",
        "        { \"amount\": 215,  \"unit\": \"g\",  \"ingredient\": \"brown sugar\" },\n",
        "        { \"amount\": 170,  \"unit\": \"g\",  \"ingredient\": \"white sugar\" },\n",
        "        { \"amount\": 2,  \"unit\": \"u\",  \"ingredient\": \"eggs\" },\n",
        "        { \"amount\": 10,  \"unit\": \"ml\",  \"ingredient\": \"vanilla extract\" },\n",
        "        { \"amount\": 350,  \"unit\": \"g\",  \"ingredient\": \"flour\" },\n",
        "        { \"amount\": 5,  \"unit\": \"g\",  \"ingredient\": \"baking soda\" },\n",
        "        { \"amount\": 5,  \"unit\": \"g\",  \"ingredient\": \"salt\" },\n",
        "        { \"amount\": 10,  \"unit\": \"g\",  \"ingredient\": \"oats\" },\n",
        "        { \"amount\": 20,  \"unit\": \"g\",  \"ingredient\": \"raisins\" }\n",
        "      ]\n",
        "    },\n",
        "    {\n",
        "      \"name\": \"double chocolate crazy cookie dough\",\n",
        "      \"ingredients\": [\n",
        "        { \"amount\": 225,  \"unit\": \"g\",  \"ingredient\": \"butter\" },\n",
        "        { \"amount\": 215,  \"unit\": \"g\",  \"ingredient\": \"brown sugar\" },\n",
        "        { \"amount\": 170,  \"unit\": \"g\",  \"ingredient\": \"white sugar\" },\n",
        "        { \"amount\": 2,  \"unit\": \"u\",  \"ingredient\": \"eggs\" },\n",
        "        { \"amount\": 10,  \"unit\": \"ml\",  \"ingredient\": \"vanilla extract\" },\n",
        "        { \"amount\": 350,  \"unit\": \"g\",  \"ingredient\": \"flour\" },\n",
        "        { \"amount\": 5,  \"unit\": \"g\",  \"ingredient\": \"baking soda\" },\n",
        "        { \"amount\": 5,  \"unit\": \"g\",  \"ingredient\": \"salt\" },\n",
        "        { \"amount\": 10,  \"unit\": \"g\",  \"ingredient\": \"cocoa powder\" },\n",
        "        { \"amount\": 15,  \"unit\": \"g\",  \"ingredient\": \"chocolate\" }\n",
        "      ]\n",
        "    },\n",
        "    {\n",
        "      \"name\": \"chocolate hazelnut crazy cookie dough\",\n",
        "      \"ingredients\": [\n",
        "        { \"amount\": 225,  \"unit\": \"g\",  \"ingredient\": \"butter\" },\n",
        "        { \"amount\": 215,  \"unit\": \"g\",  \"ingredient\": \"brown sugar\" },\n",
        "        { \"amount\": 170,  \"unit\": \"g\",  \"ingredient\": \"white sugar\" },\n",
        "        { \"amount\": 2,  \"unit\": \"u\",  \"ingredient\": \"eggs\" },\n",
        "        { \"amount\": 10,  \"unit\": \"ml\",  \"ingredient\": \"vanilla extract\" },\n",
        "        { \"amount\": 350,  \"unit\": \"g\",  \"ingredient\": \"flour\" },\n",
        "        { \"amount\": 5,  \"unit\": \"g\",  \"ingredient\": \"baking soda\" },\n",
        "        { \"amount\": 5,  \"unit\": \"g\",  \"ingredient\": \"salt\" },\n",
        "        { \"amount\": 15,  \"unit\": \"g\",  \"ingredient\": \"nutella\" },\n",
        "        { \"amount\": 15,  \"unit\": \"g\",  \"ingredient\": \"hazelnuts\" }\n",
        "      ]\n",
        "    },\n",
        "    {\n",
        "      \"name\": \"smore crazy cookie dough\",\n",
        "      \"ingredients\": [\n",
        "        { \"amount\": 225,  \"unit\": \"g\",  \"ingredient\": \"butter\" },\n",
        "        { \"amount\": 215,  \"unit\": \"g\",  \"ingredient\": \"brown sugar\" },\n",
        "        { \"amount\": 170,  \"unit\": \"g\",  \"ingredient\": \"white sugar\" },\n",
        "        { \"amount\": 2,  \"unit\": \"u\",  \"ingredient\": \"eggs\" },\n",
        "        { \"amount\": 10,  \"unit\": \"ml\",  \"ingredient\": \"vanilla extract\" },\n",
        "        { \"amount\": 350,  \"unit\": \"g\",  \"ingredient\": \"flour\" },\n",
        "        { \"amount\": 5,  \"unit\": \"g\",  \"ingredient\": \"baking soda\" },\n",
        "        { \"amount\": 5,  \"unit\": \"g\",  \"ingredient\": \"salt\" },\n",
        "        { \"amount\": 20,  \"unit\": \"g\",  \"ingredient\": \"mini marshmallows\" },\n",
        "        { \"amount\": 15,  \"unit\": \"g\",  \"ingredient\": \"graham crackers\" },\n",
        "        { \"amount\": 15,  \"unit\": \"g\",  \"ingredient\": \"chocolate\" }\n",
        "      ]\n",
        "    },\n",
        "    {\n",
        "      \"name\": \"salted caramel crazy cookie dough\",\n",
        "      \"ingredients\": [\n",
        "        { \"amount\": 225,  \"unit\": \"g\",  \"ingredient\": \"butter\" },\n",
        "        { \"amount\": 215,  \"unit\": \"g\",  \"ingredient\": \"brown sugar\" },\n",
        "        { \"amount\": 170,  \"unit\": \"g\",  \"ingredient\": \"white sugar\" },\n",
        "        { \"amount\": 2,  \"unit\": \"u\",  \"ingredient\": \"eggs\" },\n",
        "        { \"amount\": 10,  \"unit\": \"ml\",  \"ingredient\": \"vanilla extract\" },\n",
        "        { \"amount\": 350,  \"unit\": \"g\",  \"ingredient\": \"flour\" },\n",
        "        { \"amount\": 5,  \"unit\": \"g\",  \"ingredient\": \"baking soda\" },\n",
        "        { \"amount\": 5,  \"unit\": \"g\",  \"ingredient\": \"salt\" },\n",
        "        { \"amount\": 4,  \"unit\": \"u\",  \"ingredient\": \"caramel candies\" },\n",
        "        { \"amount\": 1,  \"unit\": \"g\",  \"ingredient\": \"flaky salt\" }\n",
        "      ]\n",
        "    },\n",
        "    {\n",
        "      \"name\": \"birthday cake crazy cookie dough\",\n",
        "      \"ingredients\": [\n",
        "        { \"amount\": 225,  \"unit\": \"g\",  \"ingredient\": \"butter\" },\n",
        "        { \"amount\": 215,  \"unit\": \"g\",  \"ingredient\": \"brown sugar\" },\n",
        "        { \"amount\": 170,  \"unit\": \"g\",  \"ingredient\": \"white sugar\" },\n",
        "        { \"amount\": 2,  \"unit\": \"u\",  \"ingredient\": \"eggs\" },\n",
        "        { \"amount\": 10,  \"unit\": \"ml\",  \"ingredient\": \"vanilla extract\" },\n",
        "        { \"amount\": 350,  \"unit\": \"g\",  \"ingredient\": \"flour\" },\n",
        "        { \"amount\": 5,  \"unit\": \"g\",  \"ingredient\": \"baking soda\" },\n",
        "        { \"amount\": 5,  \"unit\": \"g\",  \"ingredient\": \"salt\" },\n",
        "        { \"amount\": 10,  \"unit\": \"g\",  \"ingredient\": \"sprinkles\" },\n",
        "        { \"amount\": 20,  \"unit\": \"g\",  \"ingredient\": \"chocolate chips\" }\n",
        "      ]\n",
        "    },\n",
        "    {\n",
        "      \"name\": \"shortbread cookies\",\n",
        "      \"ingredients\": [\n",
        "        { \"amount\": 560,  \"unit\": \"g\",  \"ingredient\": \"butter\" },\n",
        "        { \"amount\": 200,  \"unit\": \"g\",  \"ingredient\": \"sugar\" },\n",
        "        { \"amount\": 10,  \"unit\": \"ml\",  \"ingredient\": \"vanilla extract\" },\n",
        "        { \"amount\": 1000,  \"unit\": \"g\",  \"ingredient\": \"flour\" }\n",
        "      ]\n",
        "    },\n",
        "    {\n",
        "      \"name\": \"pumpkin spice roll cookies\",\n",
        "      \"ingredients\": [\n",
        "        { \"amount\": 170,  \"unit\": \"g\",  \"ingredient\": \"butter\" },\n",
        "        { \"amount\": 150,  \"unit\": \"g\",  \"ingredient\": \"granulated sugar\" },\n",
        "        { \"amount\": 90,  \"unit\": \"g\",  \"ingredient\": \"pumpkin puree\" },\n",
        "        { \"amount\": 7.5,  \"unit\": \"ml\",  \"ingredient\": \"vanilla extract\" },\n",
        "        { \"amount\": 280,  \"unit\": \"g\",  \"ingredient\": \"flour\" },\n",
        "        { \"amount\": 10,  \"unit\": \"g\",  \"ingredient\": \"pumpkin pie spice\" },\n",
        "        { \"amount\": 2.5,  \"unit\": \"g\",  \"ingredient\": \"ground cinnamon\" },\n",
        "        { \"amount\": 2.5,  \"unit\": \"g\",  \"ingredient\": \"baking powder\" },\n",
        "        { \"amount\": 1,  \"unit\": \"g\",  \"ingredient\": \"salt\" }\n",
        "      ]\n",
        "    },\n",
        "    {\n",
        "      \"name\": \"dark chocolate pecan cookies\",\n",
        "      \"ingredients\": [\n",
        "        { \"amount\": 230,  \"unit\": \"g\",  \"ingredient\": \"butter\" },\n",
        "        { \"amount\": 200,  \"unit\": \"g\",  \"ingredient\": \"brown sugar\" },\n",
        "        { \"amount\": 100,  \"unit\": \"g\",  \"ingredient\": \"granulated sugar\" },\n",
        "        { \"amount\": 2,  \"unit\": \"u\",  \"ingredient\": \"eggs\" },\n",
        "        { \"amount\": 10,  \"unit\": \"ml\",  \"ingredient\": \"vanilla extract\" },\n",
        "        { \"amount\": 300,  \"unit\": \"g\",  \"ingredient\": \"flour\" },\n",
        "        { \"amount\": 5,  \"unit\": \"g\",  \"ingredient\": \"baking soda\" },\n",
        "        { \"amount\": 5,  \"unit\": \"g\",  \"ingredient\": \"ground cinnamon\" },\n",
        "        { \"amount\": 2.5,  \"unit\": \"g\",  \"ingredient\": \"salt\" },\n",
        "        { \"amount\": 225,  \"unit\": \"g\",  \"ingredient\": \"chocolate\" },\n",
        "        { \"amount\": 130,  \"unit\": \"g\",  \"ingredient\": \"pecans\" }\n",
        "        ]\n",
        "    },\n",
        "    {\n",
        "      \"name\": \"glazed coconut lime cookies\",\n",
        "      \"ingredients\": [\n",
        "        { \"amount\": 100,  \"unit\": \"g\",  \"ingredient\": \"shredded coconut\" },\n",
        "        { \"amount\": 300,  \"unit\": \"g\",  \"ingredient\": \"flour\" },\n",
        "        { \"amount\": 5,  \"unit\": \"g\",  \"ingredient\": \"cornstarch\" },\n",
        "        { \"amount\": 5,  \"unit\": \"g\",  \"ingredient\": \"baking soda\" },\n",
        "        { \"amount\": 2.5,  \"unit\": \"g\",  \"ingredient\": \"salt\" },\n",
        "        { \"amount\": 170,  \"unit\": \"g\",  \"ingredient\": \"butter\" },\n",
        "        { \"amount\": 300,  \"unit\": \"g\",  \"ingredient\": \"granulated sugar\" },\n",
        "        { \"amount\": 1,  \"unit\": \"u\",  \"ingredient\": \"eggs\" },\n",
        "        { \"amount\": 60,  \"unit\": \"ml\",  \"ingredient\": \"lime juice\" },\n",
        "        { \"amount\": 10,  \"unit\": \"g\",  \"ingredient\": \"lime zest\" },\n",
        "        { \"amount\": 5,  \"unit\": \"g\",  \"ingredient\": \"coconut extract\" }\n",
        "        ]\n",
        "    },\n",
        "    {\n",
        "      \"name\": \"raspberry sugar cookies\",\n",
        "      \"ingredients\": [\n",
        "        { \"amount\": 60,  \"unit\": \"g\",  \"ingredient\": \"raspberries\" },\n",
        "        { \"amount\": 357,  \"unit\": \"g\",  \"ingredient\": \"flour\" },\n",
        "        { \"amount\": 7.5,  \"unit\": \"g\",  \"ingredient\": \"baking powder\" },\n",
        "        { \"amount\": 2.5,  \"unit\": \"g\",  \"ingredient\": \"salt\" },\n",
        "        { \"amount\": 230,  \"unit\": \"g\",  \"ingredient\": \"butter\" },\n",
        "        { \"amount\": 110,  \"unit\": \"g\",  \"ingredient\": \"cream cheese\" },\n",
        "        { \"amount\": 200,  \"unit\": \"g\",  \"ingredient\": \"granulated sugar\" },\n",
        "        { \"amount\": 1,  \"unit\": \"u\",  \"ingredient\": \"eggs\" },\n",
        "        { \"amount\": 5,  \"unit\": \"ml\",  \"ingredient\": \"vanilla extract\" },\n",
        "        { \"amount\": 5,  \"unit\": \"g\",  \"ingredient\": \"almond extract\" }\n",
        "        ]\n",
        "    },\n",
        "    {\n",
        "      \"name\": \"rainbow m&m cookies\",\n",
        "      \"ingredients\": [\n",
        "        { \"amount\": 265,  \"unit\": \"g\",  \"ingredient\": \"flour\" },\n",
        "        { \"amount\": 5,  \"unit\": \"g\",  \"ingredient\": \"cornstarch\" },\n",
        "        { \"amount\": 5,  \"unit\": \"g\",  \"ingredient\": \"baking soda\" },\n",
        "        { \"amount\": 2.5,  \"unit\": \"g\",  \"ingredient\": \"salt\" },\n",
        "        { \"amount\": 170,  \"unit\": \"g\",  \"ingredient\": \"butter\" },\n",
        "        { \"amount\": 150,  \"unit\": \"g\",  \"ingredient\": \"brown sugar\" },\n",
        "        { \"amount\": 100,  \"unit\": \"g\",  \"ingredient\": \"granulated sugar\" },\n",
        "        { \"amount\": 1,  \"unit\": \"u\",  \"ingredient\": \"eggs\" },\n",
        "        { \"amount\": 1,  \"unit\": \"u\",  \"ingredient\": \"egg yolks\" },\n",
        "        { \"amount\": 7.5,  \"unit\": \"g\",  \"ingredient\": \"vanilla extract\" },\n",
        "        { \"amount\": 300,  \"unit\": \"g\",  \"ingredient\": \"mini m&ms\" }\n",
        "        ]\n",
        "    },\n",
        "    {\n",
        "      \"name\": \"red velvet kiss cookies\",\n",
        "      \"ingredients\": [\n",
        "        { \"amount\": 200,  \"unit\": \"g\",  \"ingredient\": \"flour\" },\n",
        "        { \"amount\": 20,  \"unit\": \"g\",  \"ingredient\": \"cocoa powder\" },\n",
        "        { \"amount\": 5,  \"unit\": \"g\",  \"ingredient\": \"baking soda\" },\n",
        "        { \"amount\": 1,  \"unit\": \"g\",  \"ingredient\": \"salt\" },\n",
        "        { \"amount\": 115,  \"unit\": \"g\",  \"ingredient\": \"butter\" },\n",
        "        { \"amount\": 150,  \"unit\": \"g\",  \"ingredient\": \"brown sugar\" },\n",
        "        { \"amount\": 50,  \"unit\": \"g\",  \"ingredient\": \"granulated sugar\" },\n",
        "        { \"amount\": 1,  \"unit\": \"u\",  \"ingredient\": \"eggs\" },\n",
        "        { \"amount\": 10,  \"unit\": \"ml\",  \"ingredient\": \"vanilla extract\" },\n",
        "        { \"amount\": 15,  \"unit\": \"ml\",  \"ingredient\": \"milk\" },\n",
        "        { \"amount\": 2.5,  \"unit\": \"g\",  \"ingredient\": \"red food dye\" },\n",
        "        { \"amount\": 36,  \"unit\": \"g\",  \"ingredient\": \"hersheys kisses\" }\n",
        "        ]\n",
        "    },\n",
        "    {\n",
        "      \"name\": \"brownie cookies\",\n",
        "      \"ingredients\": [\n",
        "        { \"amount\": 225,  \"unit\": \"g\",  \"ingredient\": \"chocolate\" },\n",
        "        { \"amount\": 100,  \"unit\": \"g\",  \"ingredient\": \"flour\" },\n",
        "        { \"amount\": 21,  \"unit\": \"g\",  \"ingredient\": \"cocoa powder\" },\n",
        "        { \"amount\": 5,  \"unit\": \"g\",  \"ingredient\": \"espresso powder\" },\n",
        "        { \"amount\": 5,  \"unit\": \"g\",  \"ingredient\": \"baking powder\" },\n",
        "        { \"amount\": 1,  \"unit\": \"g\",  \"ingredient\": \"salt\" },\n",
        "        { \"amount\": 70,  \"unit\": \"g\",  \"ingredient\": \"butter\" },\n",
        "        { \"amount\": 150,  \"unit\": \"g\",  \"ingredient\": \"brown sugar\" },\n",
        "        { \"amount\": 50,  \"unit\": \"g\",  \"ingredient\": \"granulated sugar\" },\n",
        "        { \"amount\": 2,  \"unit\": \"u\",  \"ingredient\": \"eggs\" },\n",
        "        { \"amount\": 5,  \"unit\": \"ml\",  \"ingredient\": \"vanilla extract\" },\n",
        "        { \"amount\": 135,  \"unit\": \"g\",  \"ingredient\": \"chocolate chips\" }\n",
        "        ]\n",
        "    },\n",
        "    {\n",
        "      \"name\": \"mint chocolate cookies\",\n",
        "      \"ingredients\": [\n",
        "        { \"amount\": 310,  \"unit\": \"g\",  \"ingredient\": \"flour\" },\n",
        "        { \"amount\": 2.5,  \"unit\": \"g\",  \"ingredient\": \"baking powder\" },\n",
        "        { \"amount\": 2.5,  \"unit\": \"g\",  \"ingredient\": \"salt\" },\n",
        "        { \"amount\": 230,  \"unit\": \"g\",  \"ingredient\": \"butter\" },\n",
        "        { \"amount\": 200,  \"unit\": \"g\",  \"ingredient\": \"granulated sugar\" },\n",
        "        { \"amount\": 1,  \"unit\": \"u\",  \"ingredient\": \"eggs\" },\n",
        "        { \"amount\": 1,  \"unit\": \"u\",  \"ingredient\": \"egg yolks\" },\n",
        "        { \"amount\": 7.5,  \"unit\": \"ml\",  \"ingredient\": \"vanilla extract\" },\n",
        "        { \"amount\": 15,  \"unit\": \"ml\",  \"ingredient\": \"water\" },\n",
        "        { \"amount\": 50,  \"unit\": \"g\",  \"ingredient\": \"coarse sugar\" },\n",
        "        { \"amount\": 5,  \"unit\": \"g\",  \"ingredient\": \"peppermint extract\" },\n",
        "        { \"amount\": 1,  \"unit\": \"ml\",  \"ingredient\": \"green food dye\" },\n",
        "        { \"amount\": 10,  \"unit\": \"g\",  \"ingredient\": \"cocoa powder\" },\n",
        "        { \"amount\": 15,  \"unit\": \"ml\",  \"ingredient\": \"milk\" },\n",
        "        { \"amount\": 5,  \"unit\": \"g\",  \"ingredient\": \"espresso powder\" }\n",
        "        ]\n",
        "    },\n",
        "    {\n",
        "      \"name\": \"zuccini chocolate chip cookies\",\n",
        "      \"ingredients\": [\n",
        "        { \"amount\": 140,  \"unit\": \"g\",  \"ingredient\": \"shredded zuccini\" },\n",
        "        { \"amount\": 160,  \"unit\": \"g\",  \"ingredient\": \"oats\" },\n",
        "        { \"amount\": 125,  \"unit\": \"g\",  \"ingredient\": \"flour\" },\n",
        "        { \"amount\": 2.5,  \"unit\": \"g\",  \"ingredient\": \"baking soda\" },\n",
        "        { \"amount\": 2.5,  \"unit\": \"g\",  \"ingredient\": \"salt\" },\n",
        "        { \"amount\": 5,  \"unit\": \"g\",  \"ingredient\": \"ground cinnamon\" },\n",
        "        { \"amount\": 115,  \"unit\": \"g\",  \"ingredient\": \"butter\" },\n",
        "        { \"amount\": 100,  \"unit\": \"g\",  \"ingredient\": \"brown sugar\" },\n",
        "        { \"amount\": 100,  \"unit\": \"g\",  \"ingredient\": \"granulated sugar\" },\n",
        "        { \"amount\": 1,  \"unit\": \"u\",  \"ingredient\": \"eggs\" },\n",
        "        { \"amount\": 15,  \"unit\": \"ml\",  \"ingredient\": \"maple syrup\" },\n",
        "        { \"amount\": 7.5,  \"unit\": \"ml\",  \"ingredient\": \"vanilla extract\" },\n",
        "        { \"amount\": 180,  \"unit\": \"g\",  \"ingredient\": \"chocolate chips\" }\n",
        "        ]\n",
        "    },\n",
        "    {\n",
        "      \"name\": \"pecan shortbread\",\n",
        "      \"ingredients\": [\n",
        "        { \"amount\": 230,  \"unit\": \"g\",  \"ingredient\": \"butter\" },\n",
        "        { \"amount\": 100,  \"unit\": \"g\",  \"ingredient\": \"brown sugar\" },\n",
        "        { \"amount\": 50,  \"unit\": \"g\",  \"ingredient\": \"granulated sugar\" },\n",
        "        { \"amount\": 7.5,  \"unit\": \"ml\",  \"ingredient\": \"vanilla extract\" },\n",
        "        { \"amount\": 280,  \"unit\": \"g\",  \"ingredient\": \"flour\" },\n",
        "        { \"amount\": 2.5,  \"unit\": \"g\",  \"ingredient\": \"ground cinnamon\" },\n",
        "        { \"amount\": 1,  \"unit\": \"g\",  \"ingredient\": \"salt\" },\n",
        "        { \"amount\": 130,  \"unit\": \"g\",  \"ingredient\": \"pecans\" },\n",
        "        { \"amount\": 50,  \"unit\": \"g\",  \"ingredient\": \"coarse sugar\" }\n",
        "        ]\n",
        "    },\n",
        "    {\n",
        "      \"name\": \"pistachio drop cookies\",\n",
        "      \"ingredients\": [\n",
        "        { \"amount\": 130,  \"unit\": \"g\",  \"ingredient\": \"pistachios\" },\n",
        "        { \"amount\": 290,  \"unit\": \"g\",  \"ingredient\": \"butter\" },\n",
        "        { \"amount\": 90,  \"unit\": \"g\",  \"ingredient\": \"confectioners sugar\" },\n",
        "        { \"amount\": 5,  \"unit\": \"ml\",  \"ingredient\": \"vanilla extract\" },\n",
        "        { \"amount\": 5,  \"unit\": \"g\",  \"ingredient\": \"almond extract\" },\n",
        "        { \"amount\": 280,  \"unit\": \"g\",  \"ingredient\": \"flour\" },\n",
        "        { \"amount\": 1,  \"unit\": \"ml\",  \"ingredient\": \"green food dye\" }\n",
        "        ]\n",
        "    }\n",
        "  ]\n",
        "}\"\"\""
      ],
      "execution_count": 23,
      "outputs": []
    },
    {
      "cell_type": "markdown",
      "metadata": {
        "id": "sKVfa9ICtSwk"
      },
      "source": [
        "## Loading the Inspiring Set\n",
        "\n",
        "We start by loading the inspiring set from a JSON string. We'll also load some helpful libraries."
      ]
    },
    {
      "cell_type": "code",
      "metadata": {
        "id": "7IaFfcGlFG75"
      },
      "source": [
        "import json\n",
        "import pprint\n",
        "import random\n",
        "import math\n",
        "\n",
        "recipes = json.loads(data)['recipes']"
      ],
      "execution_count": 24,
      "outputs": []
    },
    {
      "cell_type": "markdown",
      "metadata": {
        "id": "zafD1qzwYi8S"
      },
      "source": [
        "To check what we have loaded we can use the pretty printing library (pprint)."
      ]
    },
    {
      "cell_type": "code",
      "metadata": {
        "id": "d4eW_Tp1YhZ9",
        "colab": {
          "base_uri": "https://localhost:8080/"
        },
        "outputId": "616a9bd8-8aa0-43c6-d07a-3525b4515bef"
      },
      "source": [
        "pprint.PrettyPrinter(indent=2, depth=3).pprint(recipes[0])"
      ],
      "execution_count": 25,
      "outputs": [
        {
          "output_type": "stream",
          "name": "stdout",
          "text": [
            "{ 'ingredients': [ {'amount': 630, 'ingredient': 'flour', 'unit': 'ml'},\n",
            "                   {'amount': 5, 'ingredient': 'baking soda', 'unit': 'g'},\n",
            "                   {'amount': 2.5, 'ingredient': 'baking powder', 'unit': 'g'},\n",
            "                   {'amount': 230, 'ingredient': 'butter', 'unit': 'g'},\n",
            "                   {'amount': 300, 'ingredient': 'white sugar', 'unit': 'g'},\n",
            "                   {'amount': 1, 'ingredient': 'eggs', 'unit': 'u'},\n",
            "                   { 'amount': 5,\n",
            "                     'ingredient': 'vanilla extract',\n",
            "                     'unit': 'ml'}],\n",
            "  'name': 'easy sugar cookies'}\n"
          ]
        }
      ]
    },
    {
      "cell_type": "markdown",
      "metadata": {
        "id": "5PFUWrgjHt6O"
      },
      "source": [
        "Next we extract all of the ingredients from the recipes, so that we can use them in mutation operators."
      ]
    },
    {
      "cell_type": "code",
      "metadata": {
        "id": "UAr44T3rHtJr"
      },
      "source": [
        "all_ingredients = []\n",
        "for recipe in recipes:\n",
        "  all_ingredients.extend(recipe['ingredients'])"
      ],
      "execution_count": 26,
      "outputs": []
    },
    {
      "cell_type": "markdown",
      "metadata": {
        "id": "aiuz-P_3ZkFz"
      },
      "source": [
        "To check on the complete list of ingredients, we can use the pprint library to provide formatted list."
      ]
    },
    {
      "cell_type": "code",
      "metadata": {
        "id": "bxIIBTaWY9iF",
        "colab": {
          "base_uri": "https://localhost:8080/"
        },
        "outputId": "c0979334-77b2-4080-b1f1-327474de42b2"
      },
      "source": [
        "pprint.PrettyPrinter(indent=2, depth=2).pprint(all_ingredients)"
      ],
      "execution_count": 27,
      "outputs": [
        {
          "output_type": "stream",
          "name": "stdout",
          "text": [
            "[ {'amount': 630, 'ingredient': 'flour', 'unit': 'ml'},\n",
            "  {'amount': 5, 'ingredient': 'baking soda', 'unit': 'g'},\n",
            "  {'amount': 2.5, 'ingredient': 'baking powder', 'unit': 'g'},\n",
            "  {'amount': 230, 'ingredient': 'butter', 'unit': 'g'},\n",
            "  {'amount': 300, 'ingredient': 'white sugar', 'unit': 'g'},\n",
            "  {'amount': 1, 'ingredient': 'eggs', 'unit': 'u'},\n",
            "  {'amount': 5, 'ingredient': 'vanilla extract', 'unit': 'ml'},\n",
            "  {'amount': 115, 'ingredient': 'butter', 'unit': 'g'},\n",
            "  {'amount': 100, 'ingredient': 'granulated sugar', 'unit': 'g'},\n",
            "  {'amount': 100, 'ingredient': 'brown sugar', 'unit': 'g'},\n",
            "  {'amount': 1, 'ingredient': 'eggs', 'unit': 'u'},\n",
            "  {'amount': 5, 'ingredient': 'vanilla extract', 'unit': 'ml'},\n",
            "  {'amount': 125, 'ingredient': 'flour', 'unit': 'g'},\n",
            "  {'amount': 50, 'ingredient': 'cocoa powder', 'unit': 'g'},\n",
            "  {'amount': 5, 'ingredient': 'baking soda', 'unit': 'g'},\n",
            "  {'amount': 1, 'ingredient': 'salt', 'unit': 'g'},\n",
            "  {'amount': 15, 'ingredient': 'milk', 'unit': 'ml'},\n",
            "  {'amount': 225, 'ingredient': 'chocolate chips', 'unit': 'g'},\n",
            "  {'amount': 225, 'ingredient': 'butter', 'unit': 'g'},\n",
            "  {'amount': 215, 'ingredient': 'brown sugar', 'unit': 'g'},\n",
            "  {'amount': 170, 'ingredient': 'white sugar', 'unit': 'g'},\n",
            "  {'amount': 2, 'ingredient': 'eggs', 'unit': 'u'},\n",
            "  {'amount': 10, 'ingredient': 'vanilla extract', 'unit': 'ml'},\n",
            "  {'amount': 350, 'ingredient': 'flour', 'unit': 'g'},\n",
            "  {'amount': 5, 'ingredient': 'baking soda', 'unit': 'g'},\n",
            "  {'amount': 5, 'ingredient': 'salt', 'unit': 'g'},\n",
            "  {'amount': 225, 'ingredient': 'butter', 'unit': 'g'},\n",
            "  {'amount': 215, 'ingredient': 'brown sugar', 'unit': 'g'},\n",
            "  {'amount': 170, 'ingredient': 'white sugar', 'unit': 'g'},\n",
            "  {'amount': 2, 'ingredient': 'eggs', 'unit': 'u'},\n",
            "  {'amount': 10, 'ingredient': 'vanilla extract', 'unit': 'ml'},\n",
            "  {'amount': 350, 'ingredient': 'flour', 'unit': 'g'},\n",
            "  {'amount': 5, 'ingredient': 'baking soda', 'unit': 'g'},\n",
            "  {'amount': 5, 'ingredient': 'salt', 'unit': 'g'},\n",
            "  {'amount': 10, 'ingredient': 'oats', 'unit': 'g'},\n",
            "  {'amount': 20, 'ingredient': 'raisins', 'unit': 'g'},\n",
            "  {'amount': 225, 'ingredient': 'butter', 'unit': 'g'},\n",
            "  {'amount': 215, 'ingredient': 'brown sugar', 'unit': 'g'},\n",
            "  {'amount': 170, 'ingredient': 'white sugar', 'unit': 'g'},\n",
            "  {'amount': 2, 'ingredient': 'eggs', 'unit': 'u'},\n",
            "  {'amount': 10, 'ingredient': 'vanilla extract', 'unit': 'ml'},\n",
            "  {'amount': 350, 'ingredient': 'flour', 'unit': 'g'},\n",
            "  {'amount': 5, 'ingredient': 'baking soda', 'unit': 'g'},\n",
            "  {'amount': 5, 'ingredient': 'salt', 'unit': 'g'},\n",
            "  {'amount': 10, 'ingredient': 'cocoa powder', 'unit': 'g'},\n",
            "  {'amount': 15, 'ingredient': 'chocolate', 'unit': 'g'},\n",
            "  {'amount': 225, 'ingredient': 'butter', 'unit': 'g'},\n",
            "  {'amount': 215, 'ingredient': 'brown sugar', 'unit': 'g'},\n",
            "  {'amount': 170, 'ingredient': 'white sugar', 'unit': 'g'},\n",
            "  {'amount': 2, 'ingredient': 'eggs', 'unit': 'u'},\n",
            "  {'amount': 10, 'ingredient': 'vanilla extract', 'unit': 'ml'},\n",
            "  {'amount': 350, 'ingredient': 'flour', 'unit': 'g'},\n",
            "  {'amount': 5, 'ingredient': 'baking soda', 'unit': 'g'},\n",
            "  {'amount': 5, 'ingredient': 'salt', 'unit': 'g'},\n",
            "  {'amount': 15, 'ingredient': 'nutella', 'unit': 'g'},\n",
            "  {'amount': 15, 'ingredient': 'hazelnuts', 'unit': 'g'},\n",
            "  {'amount': 225, 'ingredient': 'butter', 'unit': 'g'},\n",
            "  {'amount': 215, 'ingredient': 'brown sugar', 'unit': 'g'},\n",
            "  {'amount': 170, 'ingredient': 'white sugar', 'unit': 'g'},\n",
            "  {'amount': 2, 'ingredient': 'eggs', 'unit': 'u'},\n",
            "  {'amount': 10, 'ingredient': 'vanilla extract', 'unit': 'ml'},\n",
            "  {'amount': 350, 'ingredient': 'flour', 'unit': 'g'},\n",
            "  {'amount': 5, 'ingredient': 'baking soda', 'unit': 'g'},\n",
            "  {'amount': 5, 'ingredient': 'salt', 'unit': 'g'},\n",
            "  {'amount': 20, 'ingredient': 'mini marshmallows', 'unit': 'g'},\n",
            "  {'amount': 15, 'ingredient': 'graham crackers', 'unit': 'g'},\n",
            "  {'amount': 15, 'ingredient': 'chocolate', 'unit': 'g'},\n",
            "  {'amount': 225, 'ingredient': 'butter', 'unit': 'g'},\n",
            "  {'amount': 215, 'ingredient': 'brown sugar', 'unit': 'g'},\n",
            "  {'amount': 170, 'ingredient': 'white sugar', 'unit': 'g'},\n",
            "  {'amount': 2, 'ingredient': 'eggs', 'unit': 'u'},\n",
            "  {'amount': 10, 'ingredient': 'vanilla extract', 'unit': 'ml'},\n",
            "  {'amount': 350, 'ingredient': 'flour', 'unit': 'g'},\n",
            "  {'amount': 5, 'ingredient': 'baking soda', 'unit': 'g'},\n",
            "  {'amount': 5, 'ingredient': 'salt', 'unit': 'g'},\n",
            "  {'amount': 4, 'ingredient': 'caramel candies', 'unit': 'u'},\n",
            "  {'amount': 1, 'ingredient': 'flaky salt', 'unit': 'g'},\n",
            "  {'amount': 225, 'ingredient': 'butter', 'unit': 'g'},\n",
            "  {'amount': 215, 'ingredient': 'brown sugar', 'unit': 'g'},\n",
            "  {'amount': 170, 'ingredient': 'white sugar', 'unit': 'g'},\n",
            "  {'amount': 2, 'ingredient': 'eggs', 'unit': 'u'},\n",
            "  {'amount': 10, 'ingredient': 'vanilla extract', 'unit': 'ml'},\n",
            "  {'amount': 350, 'ingredient': 'flour', 'unit': 'g'},\n",
            "  {'amount': 5, 'ingredient': 'baking soda', 'unit': 'g'},\n",
            "  {'amount': 5, 'ingredient': 'salt', 'unit': 'g'},\n",
            "  {'amount': 10, 'ingredient': 'sprinkles', 'unit': 'g'},\n",
            "  {'amount': 20, 'ingredient': 'chocolate chips', 'unit': 'g'},\n",
            "  {'amount': 560, 'ingredient': 'butter', 'unit': 'g'},\n",
            "  {'amount': 200, 'ingredient': 'sugar', 'unit': 'g'},\n",
            "  {'amount': 10, 'ingredient': 'vanilla extract', 'unit': 'ml'},\n",
            "  {'amount': 1000, 'ingredient': 'flour', 'unit': 'g'},\n",
            "  {'amount': 170, 'ingredient': 'butter', 'unit': 'g'},\n",
            "  {'amount': 150, 'ingredient': 'granulated sugar', 'unit': 'g'},\n",
            "  {'amount': 90, 'ingredient': 'pumpkin puree', 'unit': 'g'},\n",
            "  {'amount': 7.5, 'ingredient': 'vanilla extract', 'unit': 'ml'},\n",
            "  {'amount': 280, 'ingredient': 'flour', 'unit': 'g'},\n",
            "  {'amount': 10, 'ingredient': 'pumpkin pie spice', 'unit': 'g'},\n",
            "  {'amount': 2.5, 'ingredient': 'ground cinnamon', 'unit': 'g'},\n",
            "  {'amount': 2.5, 'ingredient': 'baking powder', 'unit': 'g'},\n",
            "  {'amount': 1, 'ingredient': 'salt', 'unit': 'g'},\n",
            "  {'amount': 230, 'ingredient': 'butter', 'unit': 'g'},\n",
            "  {'amount': 200, 'ingredient': 'brown sugar', 'unit': 'g'},\n",
            "  {'amount': 100, 'ingredient': 'granulated sugar', 'unit': 'g'},\n",
            "  {'amount': 2, 'ingredient': 'eggs', 'unit': 'u'},\n",
            "  {'amount': 10, 'ingredient': 'vanilla extract', 'unit': 'ml'},\n",
            "  {'amount': 300, 'ingredient': 'flour', 'unit': 'g'},\n",
            "  {'amount': 5, 'ingredient': 'baking soda', 'unit': 'g'},\n",
            "  {'amount': 5, 'ingredient': 'ground cinnamon', 'unit': 'g'},\n",
            "  {'amount': 2.5, 'ingredient': 'salt', 'unit': 'g'},\n",
            "  {'amount': 225, 'ingredient': 'chocolate', 'unit': 'g'},\n",
            "  {'amount': 130, 'ingredient': 'pecans', 'unit': 'g'},\n",
            "  {'amount': 100, 'ingredient': 'shredded coconut', 'unit': 'g'},\n",
            "  {'amount': 300, 'ingredient': 'flour', 'unit': 'g'},\n",
            "  {'amount': 5, 'ingredient': 'cornstarch', 'unit': 'g'},\n",
            "  {'amount': 5, 'ingredient': 'baking soda', 'unit': 'g'},\n",
            "  {'amount': 2.5, 'ingredient': 'salt', 'unit': 'g'},\n",
            "  {'amount': 170, 'ingredient': 'butter', 'unit': 'g'},\n",
            "  {'amount': 300, 'ingredient': 'granulated sugar', 'unit': 'g'},\n",
            "  {'amount': 1, 'ingredient': 'eggs', 'unit': 'u'},\n",
            "  {'amount': 60, 'ingredient': 'lime juice', 'unit': 'ml'},\n",
            "  {'amount': 10, 'ingredient': 'lime zest', 'unit': 'g'},\n",
            "  {'amount': 5, 'ingredient': 'coconut extract', 'unit': 'g'},\n",
            "  {'amount': 60, 'ingredient': 'raspberries', 'unit': 'g'},\n",
            "  {'amount': 357, 'ingredient': 'flour', 'unit': 'g'},\n",
            "  {'amount': 7.5, 'ingredient': 'baking powder', 'unit': 'g'},\n",
            "  {'amount': 2.5, 'ingredient': 'salt', 'unit': 'g'},\n",
            "  {'amount': 230, 'ingredient': 'butter', 'unit': 'g'},\n",
            "  {'amount': 110, 'ingredient': 'cream cheese', 'unit': 'g'},\n",
            "  {'amount': 200, 'ingredient': 'granulated sugar', 'unit': 'g'},\n",
            "  {'amount': 1, 'ingredient': 'eggs', 'unit': 'u'},\n",
            "  {'amount': 5, 'ingredient': 'vanilla extract', 'unit': 'ml'},\n",
            "  {'amount': 5, 'ingredient': 'almond extract', 'unit': 'g'},\n",
            "  {'amount': 265, 'ingredient': 'flour', 'unit': 'g'},\n",
            "  {'amount': 5, 'ingredient': 'cornstarch', 'unit': 'g'},\n",
            "  {'amount': 5, 'ingredient': 'baking soda', 'unit': 'g'},\n",
            "  {'amount': 2.5, 'ingredient': 'salt', 'unit': 'g'},\n",
            "  {'amount': 170, 'ingredient': 'butter', 'unit': 'g'},\n",
            "  {'amount': 150, 'ingredient': 'brown sugar', 'unit': 'g'},\n",
            "  {'amount': 100, 'ingredient': 'granulated sugar', 'unit': 'g'},\n",
            "  {'amount': 1, 'ingredient': 'eggs', 'unit': 'u'},\n",
            "  {'amount': 1, 'ingredient': 'egg yolks', 'unit': 'u'},\n",
            "  {'amount': 7.5, 'ingredient': 'vanilla extract', 'unit': 'g'},\n",
            "  {'amount': 300, 'ingredient': 'mini m&ms', 'unit': 'g'},\n",
            "  {'amount': 200, 'ingredient': 'flour', 'unit': 'g'},\n",
            "  {'amount': 20, 'ingredient': 'cocoa powder', 'unit': 'g'},\n",
            "  {'amount': 5, 'ingredient': 'baking soda', 'unit': 'g'},\n",
            "  {'amount': 1, 'ingredient': 'salt', 'unit': 'g'},\n",
            "  {'amount': 115, 'ingredient': 'butter', 'unit': 'g'},\n",
            "  {'amount': 150, 'ingredient': 'brown sugar', 'unit': 'g'},\n",
            "  {'amount': 50, 'ingredient': 'granulated sugar', 'unit': 'g'},\n",
            "  {'amount': 1, 'ingredient': 'eggs', 'unit': 'u'},\n",
            "  {'amount': 10, 'ingredient': 'vanilla extract', 'unit': 'ml'},\n",
            "  {'amount': 15, 'ingredient': 'milk', 'unit': 'ml'},\n",
            "  {'amount': 2.5, 'ingredient': 'red food dye', 'unit': 'g'},\n",
            "  {'amount': 36, 'ingredient': 'hersheys kisses', 'unit': 'g'},\n",
            "  {'amount': 225, 'ingredient': 'chocolate', 'unit': 'g'},\n",
            "  {'amount': 100, 'ingredient': 'flour', 'unit': 'g'},\n",
            "  {'amount': 21, 'ingredient': 'cocoa powder', 'unit': 'g'},\n",
            "  {'amount': 5, 'ingredient': 'espresso powder', 'unit': 'g'},\n",
            "  {'amount': 5, 'ingredient': 'baking powder', 'unit': 'g'},\n",
            "  {'amount': 1, 'ingredient': 'salt', 'unit': 'g'},\n",
            "  {'amount': 70, 'ingredient': 'butter', 'unit': 'g'},\n",
            "  {'amount': 150, 'ingredient': 'brown sugar', 'unit': 'g'},\n",
            "  {'amount': 50, 'ingredient': 'granulated sugar', 'unit': 'g'},\n",
            "  {'amount': 2, 'ingredient': 'eggs', 'unit': 'u'},\n",
            "  {'amount': 5, 'ingredient': 'vanilla extract', 'unit': 'ml'},\n",
            "  {'amount': 135, 'ingredient': 'chocolate chips', 'unit': 'g'},\n",
            "  {'amount': 310, 'ingredient': 'flour', 'unit': 'g'},\n",
            "  {'amount': 2.5, 'ingredient': 'baking powder', 'unit': 'g'},\n",
            "  {'amount': 2.5, 'ingredient': 'salt', 'unit': 'g'},\n",
            "  {'amount': 230, 'ingredient': 'butter', 'unit': 'g'},\n",
            "  {'amount': 200, 'ingredient': 'granulated sugar', 'unit': 'g'},\n",
            "  {'amount': 1, 'ingredient': 'eggs', 'unit': 'u'},\n",
            "  {'amount': 1, 'ingredient': 'egg yolks', 'unit': 'u'},\n",
            "  {'amount': 7.5, 'ingredient': 'vanilla extract', 'unit': 'ml'},\n",
            "  {'amount': 15, 'ingredient': 'water', 'unit': 'ml'},\n",
            "  {'amount': 50, 'ingredient': 'coarse sugar', 'unit': 'g'},\n",
            "  {'amount': 5, 'ingredient': 'peppermint extract', 'unit': 'g'},\n",
            "  {'amount': 1, 'ingredient': 'green food dye', 'unit': 'ml'},\n",
            "  {'amount': 10, 'ingredient': 'cocoa powder', 'unit': 'g'},\n",
            "  {'amount': 15, 'ingredient': 'milk', 'unit': 'ml'},\n",
            "  {'amount': 5, 'ingredient': 'espresso powder', 'unit': 'g'},\n",
            "  {'amount': 140, 'ingredient': 'shredded zuccini', 'unit': 'g'},\n",
            "  {'amount': 160, 'ingredient': 'oats', 'unit': 'g'},\n",
            "  {'amount': 125, 'ingredient': 'flour', 'unit': 'g'},\n",
            "  {'amount': 2.5, 'ingredient': 'baking soda', 'unit': 'g'},\n",
            "  {'amount': 2.5, 'ingredient': 'salt', 'unit': 'g'},\n",
            "  {'amount': 5, 'ingredient': 'ground cinnamon', 'unit': 'g'},\n",
            "  {'amount': 115, 'ingredient': 'butter', 'unit': 'g'},\n",
            "  {'amount': 100, 'ingredient': 'brown sugar', 'unit': 'g'},\n",
            "  {'amount': 100, 'ingredient': 'granulated sugar', 'unit': 'g'},\n",
            "  {'amount': 1, 'ingredient': 'eggs', 'unit': 'u'},\n",
            "  {'amount': 15, 'ingredient': 'maple syrup', 'unit': 'ml'},\n",
            "  {'amount': 7.5, 'ingredient': 'vanilla extract', 'unit': 'ml'},\n",
            "  {'amount': 180, 'ingredient': 'chocolate chips', 'unit': 'g'},\n",
            "  {'amount': 230, 'ingredient': 'butter', 'unit': 'g'},\n",
            "  {'amount': 100, 'ingredient': 'brown sugar', 'unit': 'g'},\n",
            "  {'amount': 50, 'ingredient': 'granulated sugar', 'unit': 'g'},\n",
            "  {'amount': 7.5, 'ingredient': 'vanilla extract', 'unit': 'ml'},\n",
            "  {'amount': 280, 'ingredient': 'flour', 'unit': 'g'},\n",
            "  {'amount': 2.5, 'ingredient': 'ground cinnamon', 'unit': 'g'},\n",
            "  {'amount': 1, 'ingredient': 'salt', 'unit': 'g'},\n",
            "  {'amount': 130, 'ingredient': 'pecans', 'unit': 'g'},\n",
            "  {'amount': 50, 'ingredient': 'coarse sugar', 'unit': 'g'},\n",
            "  {'amount': 130, 'ingredient': 'pistachios', 'unit': 'g'},\n",
            "  {'amount': 290, 'ingredient': 'butter', 'unit': 'g'},\n",
            "  {'amount': 90, 'ingredient': 'confectioners sugar', 'unit': 'g'},\n",
            "  {'amount': 5, 'ingredient': 'vanilla extract', 'unit': 'ml'},\n",
            "  {'amount': 5, 'ingredient': 'almond extract', 'unit': 'g'},\n",
            "  {'amount': 280, 'ingredient': 'flour', 'unit': 'g'},\n",
            "  {'amount': 1, 'ingredient': 'green food dye', 'unit': 'ml'}]\n"
          ]
        }
      ]
    },
    {
      "cell_type": "markdown",
      "metadata": {
        "id": "l5S0pYmvLx0e"
      },
      "source": [
        "## Creating an Initial Population\n",
        "\n",
        "Now we can create an initial population, by first defining the population size and then selecting from the list of recipes."
      ]
    },
    {
      "cell_type": "code",
      "metadata": {
        "id": "VufUj12ML1V7"
      },
      "source": [
        "population_size = 10\n",
        "\n",
        "population = random.choices(recipes, k=population_size)"
      ],
      "execution_count": 28,
      "outputs": []
    },
    {
      "cell_type": "markdown",
      "metadata": {
        "id": "3k7fGRALZ9Ve"
      },
      "source": [
        "And we can check on the recipes that were selected in the initial population."
      ]
    },
    {
      "cell_type": "code",
      "metadata": {
        "id": "l3LGl1JXXuxy",
        "colab": {
          "base_uri": "https://localhost:8080/"
        },
        "outputId": "bc5f29b1-a6a9-4d62-dde1-56c4cb7cf328"
      },
      "source": [
        "pprint.PrettyPrinter(indent=2, depth=2).pprint(population)"
      ],
      "execution_count": 29,
      "outputs": [
        {
          "output_type": "stream",
          "name": "stdout",
          "text": [
            "[ {'ingredients': [...], 'name': 'pecan shortbread'},\n",
            "  {'ingredients': [...], 'name': 'brownie cookies'},\n",
            "  {'ingredients': [...], 'name': 'dark chocolate pecan cookies'},\n",
            "  {'ingredients': [...], 'name': 'smore crazy cookie dough'},\n",
            "  {'ingredients': [...], 'name': 'birthday cake crazy cookie dough'},\n",
            "  {'ingredients': [...], 'name': 'salted caramel crazy cookie dough'},\n",
            "  {'ingredients': [...], 'name': 'shortbread cookies'},\n",
            "  {'ingredients': [...], 'name': 'rainbow m&m cookies'},\n",
            "  {'ingredients': [...], 'name': 'inside out chocolate cookies'},\n",
            "  {'ingredients': [...], 'name': 'dark chocolate pecan cookies'}]\n"
          ]
        }
      ]
    },
    {
      "cell_type": "markdown",
      "metadata": {
        "id": "H7duEmJnOfi0"
      },
      "source": [
        "## Evaluating Recipes (Fitness Function)\n",
        "\n",
        "The following function defines how individuals are evaluated:"
      ]
    },
    {
      "cell_type": "code",
      "metadata": {
        "id": "fLSNus4iOs_L"
      },
      "source": [
        "def evaluate_recipes(recipes):\n",
        "  for r in recipes:\n",
        "    r['fitness'] = len(r['ingredients'])"
      ],
      "execution_count": 30,
      "outputs": []
    },
    {
      "cell_type": "markdown",
      "metadata": {
        "id": "Tdnvw92DaxWp"
      },
      "source": [
        "We can use this to evaluate the initial population."
      ]
    },
    {
      "cell_type": "code",
      "metadata": {
        "id": "qvA7IsCJaZUw"
      },
      "source": [
        "evaluate_recipes(population)\n",
        "population = sorted(population, reverse = True, key = lambda r: r['fitness'])"
      ],
      "execution_count": 31,
      "outputs": []
    },
    {
      "cell_type": "code",
      "metadata": {
        "id": "_hA2evqgaP2u",
        "colab": {
          "base_uri": "https://localhost:8080/"
        },
        "outputId": "cef32b76-6c87-4f81-8f7e-d40e0df093f3"
      },
      "source": [
        "pprint.PrettyPrinter(indent=2, depth=2).pprint(population)"
      ],
      "execution_count": 32,
      "outputs": [
        {
          "output_type": "stream",
          "name": "stdout",
          "text": [
            "[ {'fitness': 12, 'ingredients': [...], 'name': 'brownie cookies'},\n",
            "  {'fitness': 11, 'ingredients': [...], 'name': 'dark chocolate pecan cookies'},\n",
            "  {'fitness': 11, 'ingredients': [...], 'name': 'smore crazy cookie dough'},\n",
            "  {'fitness': 11, 'ingredients': [...], 'name': 'rainbow m&m cookies'},\n",
            "  {'fitness': 11, 'ingredients': [...], 'name': 'inside out chocolate cookies'},\n",
            "  {'fitness': 11, 'ingredients': [...], 'name': 'dark chocolate pecan cookies'},\n",
            "  { 'fitness': 10,\n",
            "    'ingredients': [...],\n",
            "    'name': 'birthday cake crazy cookie dough'},\n",
            "  { 'fitness': 10,\n",
            "    'ingredients': [...],\n",
            "    'name': 'salted caramel crazy cookie dough'},\n",
            "  {'fitness': 9, 'ingredients': [...], 'name': 'pecan shortbread'},\n",
            "  {'fitness': 4, 'ingredients': [...], 'name': 'shortbread cookies'}]\n"
          ]
        }
      ]
    },
    {
      "cell_type": "markdown",
      "metadata": {
        "id": "LHYYL0jlw_yi"
      },
      "source": [
        "## Selecting Recipes\n",
        "\n",
        "The following function implements Roulette Wheel selection of individuals based on their fitness:"
      ]
    },
    {
      "cell_type": "code",
      "metadata": {
        "id": "6QIW7GdqPaBo"
      },
      "source": [
        "def select_recipe(recipes):\n",
        "  sum_fitness = sum([recipe['fitness'] for recipe in recipes])\n",
        "  f = random.randint(0, sum_fitness)\n",
        "  for recipe in recipes:\n",
        "    if f < recipe['fitness']:\n",
        "      return recipe\n",
        "    f -= recipe['fitness']\n",
        "  return recipes[-1]"
      ],
      "execution_count": 33,
      "outputs": []
    },
    {
      "cell_type": "markdown",
      "metadata": {
        "id": "v16okoEga4HG"
      },
      "source": [
        "## Genetic Operators\n",
        "\n",
        "The following functions implement the genetic operators of crossover and mutation. Crossover takes two recipes and combines them by choosing a point on each genotype (recipe) to split each list into two, and joining the first sublist from one genotype with the second sublist of the second genotype."
      ]
    },
    {
      "cell_type": "code",
      "metadata": {
        "id": "pF71t029XdOQ"
      },
      "source": [
        "recipe_number = 1\n",
        "\n",
        "def crossover_recipes(r1, r2):\n",
        "  global recipe_number\n",
        "  p1 = random.randint(1, len(r1['ingredients'])-1)\n",
        "  p2 = random.randint(1, len(r2['ingredients'])-1)\n",
        "  r1a = r1['ingredients'][0:p1]\n",
        "  r2b = r2['ingredients'][p2:-1]\n",
        "  r = dict()\n",
        "  r['name'] = \"recipe {}\".format(recipe_number)\n",
        "  recipe_number += 1\n",
        "  r['ingredients'] = r1a + r2b\n",
        "  return r"
      ],
      "execution_count": 34,
      "outputs": []
    },
    {
      "cell_type": "markdown",
      "metadata": {
        "id": "4lXYJJphbUtz"
      },
      "source": [
        "The mutation operator changes a recipe using one of four different types of mutations: (1) changing the amount of an ingredient, (2) changing the type of an ingredient, (3) adding an ingredient, and (4) removing an ingredient."
      ]
    },
    {
      "cell_type": "code",
      "metadata": {
        "id": "uNMDIR8dXiDD"
      },
      "source": [
        "def mutate_recipe(r):\n",
        "  m = random.randint(0, 3)\n",
        "  if m == 0:\n",
        "    i = random.randint(0, len(r['ingredients'])-1)\n",
        "    r['ingredients'][i] = r['ingredients'][i].copy()\n",
        "    r['ingredients'][i]['amount'] += math.floor(r['ingredients'][i]['amount'] * 0.1)\n",
        "    r['ingredients'][i]['amount'] = max(1, r['ingredients'][i]['amount'])\n",
        "  elif m == 1:\n",
        "    j = random.randint(0, len(r['ingredients'])-1)\n",
        "    r['ingredients'][j] = r['ingredients'][j].copy()\n",
        "    r['ingredients'][j]['ingredient'] = random.choice(all_ingredients)['ingredient']\n",
        "  elif m == 2:\n",
        "    r['ingredients'].append(random.choice(all_ingredients).copy())\n",
        "  else:\n",
        "    if len(r['ingredients']) > 1:\n",
        "      r['ingredients'].remove(random.choice(r['ingredients']))"
      ],
      "execution_count": 35,
      "outputs": []
    },
    {
      "cell_type": "markdown",
      "metadata": {
        "id": "o342LNx9bzhq"
      },
      "source": [
        "The following function is domain-specific and normalises a generated recipe by removing duplicate ingredients (combining the amounts of all instances of an ingredient) and rescaling the volume of ingredients listed to 1 litre (1000 units)."
      ]
    },
    {
      "cell_type": "code",
      "metadata": {
        "id": "gOlZSTZ5R4Fb"
      },
      "source": [
        "def normalise_recipe(r):\n",
        "  unique_ingredients = dict()\n",
        "  for i in r['ingredients']:\n",
        "    if i['ingredient'] in unique_ingredients:\n",
        "      n = unique_ingredients[i['ingredient']]\n",
        "      n['amount'] += i['amount']\n",
        "    else:\n",
        "      unique_ingredients[i['ingredient']] = i.copy()\n",
        "  r['ingredients'] = list(unique_ingredients.values())\n",
        "\n",
        "  sum_amounts = sum([i['amount'] for i in r['ingredients']])\n",
        "  scale = 1000 / sum_amounts\n",
        "  for i in r['ingredients']:\n",
        "    i['amount'] = max(1, math.floor(i['amount'] * scale))"
      ],
      "execution_count": 36,
      "outputs": []
    },
    {
      "cell_type": "markdown",
      "metadata": {
        "id": "6uKR2dtHccN0"
      },
      "source": [
        "## Generating Recipes\n",
        "\n",
        "We use the above functions to generate recipes."
      ]
    },
    {
      "cell_type": "code",
      "metadata": {
        "id": "0OnxaOpTXU07"
      },
      "source": [
        "def generate_recipes(size, population):\n",
        "  R = []\n",
        "  while len(R) < size:\n",
        "    r1 = select_recipe(population)\n",
        "    r2 = select_recipe(population)\n",
        "    r = crossover_recipes(r1, r2)\n",
        "    mutate_recipe(r)\n",
        "    normalise_recipe(r)\n",
        "    R.append(r)\n",
        "  evaluate_recipes(R)\n",
        "  return R"
      ],
      "execution_count": 37,
      "outputs": []
    },
    {
      "cell_type": "markdown",
      "metadata": {
        "id": "QgSi4_dYcnTZ"
      },
      "source": [
        "## Selecting a New Population\n",
        "\n",
        "The final function that we need to implement is one that selects a new population given the previous population and the generated recipes."
      ]
    },
    {
      "cell_type": "code",
      "metadata": {
        "id": "I04KiYTTiM5f"
      },
      "source": [
        "def select_population(P, R):\n",
        "  R = sorted(R, reverse = True, key = lambda r: r['fitness'])\n",
        "  P = P[0:len(P)//2] + R[0:len(R)//2]\n",
        "  P = sorted(P, reverse = True, key = lambda r: r['fitness'])\n",
        "  return P"
      ],
      "execution_count": 38,
      "outputs": []
    },
    {
      "cell_type": "markdown",
      "metadata": {
        "id": "-q6K1dVwdmxt"
      },
      "source": [
        "## Putting it All Together...\n",
        "\n",
        "To run the genetic algorithm, we repeat here the code to set up and evaluated an initial population, before running the evolutionary process for a number of steps."
      ]
    },
    {
      "cell_type": "code",
      "metadata": {
        "id": "EmpTprBUX-UH"
      },
      "source": [
        "population = random.choices(recipes, k=population_size)\n",
        "evaluate_recipes(population)\n",
        "population = sorted(population, reverse = True, key = lambda r: r['fitness'])\n",
        "\n",
        "max_fitnesses = []\n",
        "min_fitnesses = []\n",
        "for i in range(1000):\n",
        "  R = generate_recipes(population_size, population)\n",
        "  population = select_population(population, R)\n",
        "  max_fitnesses.append(population[0]['fitness'])\n",
        "  min_fitnesses.append(population[-1]['fitness'])"
      ],
      "execution_count": 39,
      "outputs": []
    },
    {
      "cell_type": "markdown",
      "metadata": {
        "id": "QO-xVl-9d5TS"
      },
      "source": [
        "We can check on the progress of the evolution by plotting the fitness history we captured above. Here we plot both the maximum fitness each population and the range fitnesses (filling between max fitness and min fitness)."
      ]
    },
    {
      "cell_type": "code",
      "metadata": {
        "id": "6BOllLG0dB3W",
        "colab": {
          "base_uri": "https://localhost:8080/",
          "height": 295
        },
        "outputId": "c9707d49-64d6-4062-9cbc-613003a4d04f"
      },
      "source": [
        "import matplotlib.pyplot as plt\n",
        " \n",
        "x  = range(1000)\n",
        "plt.plot(x, max_fitnesses, label=\"line L\")\n",
        "plt.fill_between(x, min_fitnesses, max_fitnesses, alpha=0.2)\n",
        "plt.plot()\n",
        "\n",
        "plt.xlabel(\"generation\")\n",
        "plt.ylabel(\"fitness\")\n",
        "plt.title(\"fitness over time\")\n",
        "plt.legend()\n",
        "plt.show()"
      ],
      "execution_count": 40,
      "outputs": [
        {
          "output_type": "display_data",
          "data": {
            "image/png": "[encoded data removed]",
            "text/plain": [
              "<Figure size 432x288 with 1 Axes>"
            ]
          },
          "metadata": {
            "needs_background": "light"
          }
        }
      ]
    },
    {
      "cell_type": "markdown",
      "metadata": {
        "id": "sPm8Ps0ceT2B"
      },
      "source": [
        "Finally, because the recipe is always sorted according to fitness, the fittest individual will be the one in the first position, so we can print this out."
      ]
    },
    {
      "cell_type": "code",
      "metadata": {
        "id": "X7Bp5qVSeGET",
        "colab": {
          "base_uri": "https://localhost:8080/"
        },
        "outputId": "969f1e1e-c542-4271-fb1d-58aa4bc4a6f5"
      },
      "source": [
        "pprint.PrettyPrinter(indent=2, depth=3).pprint(population[0])"
      ],
      "execution_count": 41,
      "outputs": [
        {
          "output_type": "stream",
          "name": "stdout",
          "text": [
            "{ 'fitness': 30,\n",
            "  'ingredients': [ {'amount': 1, 'ingredient': 'shredded zuccini', 'unit': 'g'},\n",
            "                   {'amount': 1, 'ingredient': 'oats', 'unit': 'g'},\n",
            "                   {'amount': 1, 'ingredient': 'vanilla extract', 'unit': 'ml'},\n",
            "                   {'amount': 1, 'ingredient': 'water', 'unit': 'ml'},\n",
            "                   {'amount': 1, 'ingredient': 'graham crackers', 'unit': 'g'},\n",
            "                   {'amount': 1, 'ingredient': 'white sugar', 'unit': 'ml'},\n",
            "                   {'amount': 1, 'ingredient': 'cornstarch', 'unit': 'g'},\n",
            "                   {'amount': 1, 'ingredient': 'espresso powder', 'unit': 'g'},\n",
            "                   {'amount': 219, 'ingredient': 'butter', 'unit': 'g'},\n",
            "                   { 'amount': 359,\n",
            "                     'ingredient': 'granulated sugar',\n",
            "                     'unit': 'g'},\n",
            "                   {'amount': 36, 'ingredient': 'coarse sugar', 'unit': 'g'},\n",
            "                   {'amount': 19, 'ingredient': 'pumpkin puree', 'unit': 'g'},\n",
            "                   {'amount': 40, 'ingredient': 'salt', 'unit': 'g'},\n",
            "                   {'amount': 278, 'ingredient': 'eggs', 'unit': 'u'},\n",
            "                   {'amount': 1, 'ingredient': 'baking soda', 'unit': 'g'},\n",
            "                   {'amount': 1, 'ingredient': 'ground cinnamon', 'unit': 'g'},\n",
            "                   {'amount': 1, 'ingredient': 'brown sugar', 'unit': 'g'},\n",
            "                   {'amount': 1, 'ingredient': 'green food dye', 'unit': 'ml'},\n",
            "                   { 'amount': 1,\n",
            "                     'ingredient': 'confectioners sugar',\n",
            "                     'unit': 'g'},\n",
            "                   {'amount': 1, 'ingredient': 'coconut extract', 'unit': 'g'},\n",
            "                   {'amount': 1, 'ingredient': 'lime zest', 'unit': 'g'},\n",
            "                   {'amount': 9, 'ingredient': 'chocolate chips', 'unit': 'g'},\n",
            "                   {'amount': 5, 'ingredient': 'chocolate', 'unit': 'g'},\n",
            "                   {'amount': 1, 'ingredient': 'flour', 'unit': 'g'},\n",
            "                   {'amount': 1, 'ingredient': 'egg yolks', 'unit': 'u'},\n",
            "                   {'amount': 1, 'ingredient': 'cocoa powder', 'unit': 'ml'},\n",
            "                   { 'amount': 1,\n",
            "                     'ingredient': 'peppermint extract',\n",
            "                     'unit': 'g'},\n",
            "                   {'amount': 1, 'ingredient': 'pistachios', 'unit': 'ml'},\n",
            "                   {'amount': 1, 'ingredient': 'milk', 'unit': 'g'},\n",
            "                   {'amount': 9, 'ingredient': 'nutella', 'unit': 'g'}],\n",
            "  'name': 'recipe 9303'}\n"
          ]
        }
      ]
    }
  ]
}